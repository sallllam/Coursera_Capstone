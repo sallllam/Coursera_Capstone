{
 "cells": [
  {
   "cell_type": "markdown",
   "metadata": {},
   "source": [
    "<h1>Applied Data Science Capstone\n",
    "Week 4\n"
   ]
  },
  {
   "cell_type": "markdown",
   "metadata": {},
   "source": [
    "<h1>The Battle of Neighborhoods (Week 1)"
   ]
  },
  {
   "cell_type": "markdown",
   "metadata": {},
   "source": [
    "A description of the problem and a discussion of the background"
   ]
  },
  {
   "cell_type": "markdown",
   "metadata": {},
   "source": [
    "<h2>Title: clustering Saudi Arabic cities according to its population, covid 19 cases and total of hospitals"
   ]
  },
  {
   "cell_type": "markdown",
   "metadata": {},
   "source": [
    "<h3> Problem background :¶"
   ]
  },
  {
   "cell_type": "markdown",
   "metadata": {},
   "source": [
    "Saudi Arabic is a country located in middle east. it consits of many states and each state consit of  many cities. KSA play a major role to control the covid 19 epidimac.\n",
    "Nowadays , the total number of cases around 250 up to 350. Now it is  time of geting The vaccine and distributed to all people in different locations. As we know the  vaccine is limited and to distributed it fairly is important. we have many cities with different features.  based on that we have to build a model to cluster the the cities. Also the vaccine need to be store in specific condations. one of them is cold and muct to be minues 85. KSA similar to many countries, there are small cities or region does not have hospital and we want to consider this issue."
   ]
  },
  {
   "cell_type": "markdown",
   "metadata": {},
   "source": [
    "<h3> Problem description :"
   ]
  },
  {
   "cell_type": "markdown",
   "metadata": {},
   "source": [
    "suppose we have just 1,00,0000 of the vaccine and we want to distirbute it to all cities. we know that the are priorities to give it to the most effected people like old people and People with chronic diseases. but before considering this, we have to think about grouping the cities and states according to the population, hostric information of covid 19 cases and the the number of public hospital to store the vaccine. we give a solution to group those cities according to their properties. It will facilate the distribution of the vaccances. we have more than 1000 hospital , 200 cities  and more than 30,000,000. The clustering model will help us to group the cities according to hte number of cases,population and number of hospitals in easy and correct way.\n",
    "<h3>this cluster model will answer the most quesion:</h3>\n",
    "<li>which group consist of  big number of Cases and big number of population to give them the biggest number of vaccances.\n",
    "<li>which group consist big number population and small number Cases to give them less than the previous group.\n",
    "<li>which group of cities does not have any cases as not our priority group.\n",
    "<li>which group does not have hospital to store the vaccances and how we can giv the vaccances. what is the solution? \n",
    "\n"
   ]
  },
  {
   "cell_type": "markdown",
   "metadata": {},
   "source": [
    "<h3>Target audience :"
   ]
  },
  {
   "cell_type": "markdown",
   "metadata": {},
   "source": [
    "Target audiences for this project :\n",
    "<li>he government\n",
    "<li>Ministry of Health\n",
    "<li>Local governments\n",
    "<li>Vaccine providers\n",
    "<li>Interested people"
   ]
  },
  {
   "cell_type": "code",
   "execution_count": null,
   "metadata": {},
   "outputs": [],
   "source": []
  }
 ],
 "metadata": {
  "kernelspec": {
   "display_name": "Python 3",
   "language": "python",
   "name": "python3"
  },
  "language_info": {
   "codemirror_mode": {
    "name": "ipython",
    "version": 3
   },
   "file_extension": ".py",
   "mimetype": "text/x-python",
   "name": "python",
   "nbconvert_exporter": "python",
   "pygments_lexer": "ipython3",
   "version": "3.7.3"
  }
 },
 "nbformat": 4,
 "nbformat_minor": 2
}
