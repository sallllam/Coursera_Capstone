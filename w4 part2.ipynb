{
 "cells": [
  {
   "cell_type": "markdown",
   "metadata": {},
   "source": [
    "<h1>Applied Data Science Capstone\n",
    "Week 4\n"
   ]
  },
  {
   "cell_type": "markdown",
   "metadata": {},
   "source": [
    "<h1>The Battle of Neighborhoods (Week 1)"
   ]
  },
  {
   "cell_type": "markdown",
   "metadata": {},
   "source": [
    "<h1> part one"
   ]
  },
  {
   "cell_type": "markdown",
   "metadata": {},
   "source": [
    "<h2>Title: clustering Saudi Arabic cities according to its population, covid 19 cases and total of hospitals"
   ]
  },
  {
   "cell_type": "markdown",
   "metadata": {},
   "source": [
    "<h3> Data requirements :"
   ]
  },
  {
   "cell_type": "markdown",
   "metadata": {},
   "source": [
    "To build a  clutering model to solve  to the porblem of distribution of the vaccance, we need data and lots of data from different sources. Data can answer question which are unimaginable and difficult to be answered by humans.  it is a tendency to analyse such large dataset and produce analtics to find a solutions.\n",
    "This model based on population, covid cases and number of hospitals."
   ]
  },
  {
   "cell_type": "markdown",
   "metadata": {},
   "source": [
    "<h3> Sources of data:"
   ]
  },
  {
   "cell_type": "markdown",
   "metadata": {},
   "source": [
    "<h3>In this work we use four different resource as follow:</h3>\n",
    "   <h4> <li>population dataset gathering from Ministry of housing.</li></h4>\n",
    "    This data was about the number of population catagoried by state and cities but it lack of the location of the cities which we collect using Google Api by implementing the geopy library \n",
    "    <img src=\"https://raw.githubusercontent.com/sallllam/Coursera_Capstone/main/populatin.JPG\"/>\n",
    "<h4><li>Hospitals dataset from Wiki which is not enough and we add latitute and longitude using geopy labirary.</h4>\n",
    "    <img src=\"https://raw.githubusercontent.com/sallllam/Coursera_Capstone/main/hosp_wiki.JPG\"/>\n",
    "<h4><li>Daily covid cases to know the situation in Soudi Arabia gather from Ministry of Health.</h4>\n",
    "    <img src=\"https://raw.githubusercontent.com/sallllam/Coursera_Capstone/main/daily_covid.JPG\"/>\n",
    "<h4><li>Covid cases according to the cities gathering from from Ministry of Health. Also we add latitute and longitude using geopy labirary</h4>\n",
    "    <img src=\"https://raw.githubusercontent.com/sallllam/Coursera_Capstone/main/city_case.JPG\"/>\n",
    "<h4><li>Cities hospitals gathering by using FourSquare API. The data from Wiki is not enough so we collect the data of hospital by using FourSquare API</h4>\n",
    " <img src=\"https://raw.githubusercontent.com/sallllam/Coursera_Capstone/main/fours.JPG\"/>    \n"
   ]
  }
 ],
 "metadata": {
  "kernelspec": {
   "display_name": "Python 3",
   "language": "python",
   "name": "python3"
  },
  "language_info": {
   "codemirror_mode": {
    "name": "ipython",
    "version": 3
   },
   "file_extension": ".py",
   "mimetype": "text/x-python",
   "name": "python",
   "nbconvert_exporter": "python",
   "pygments_lexer": "ipython3",
   "version": "3.7.3"
  }
 },
 "nbformat": 4,
 "nbformat_minor": 2
}
